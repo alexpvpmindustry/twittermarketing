{
 "cells": [
  {
   "cell_type": "code",
   "execution_count": 1,
   "id": "2375c603-95cd-435c-a93d-1881a8bc4315",
   "metadata": {
    "tags": []
   },
   "outputs": [],
   "source": [
    "import json\n",
    "from TwitterAPI import TwitterAPI\n",
    "import random\n",
    "import time"
   ]
  },
  {
   "cell_type": "code",
   "execution_count": 2,
   "id": "755a82af-477c-4f04-865f-4f81df1f4e23",
   "metadata": {},
   "outputs": [],
   "source": [
    "with open(\"token.config\",\"rb\") as f:\n",
    "    config = json.load(f)\n",
    "consumer_key=config[\"API_Key\"]\n",
    "consumer_secret = config[\"API_Secret_Key\"]\n",
    "Bearer_Token = config[\"Bearer_Token\"]\n",
    "access_token_key = config[\"access_token\"]\n",
    "access_token_secret= config[\"access_token_secret\"]\n",
    "user_id= config[\"user_id\"]"
   ]
  },
  {
   "cell_type": "code",
   "execution_count": 3,
   "id": "0b87845b-f429-42de-9544-e3b85fe1d48a",
   "metadata": {},
   "outputs": [],
   "source": [
    "with open(\"starting_sentences.txt\",\"r\") as f:\n",
    "    ss=f.readlines()\n",
    "with open(\"tags.txt\",\"r\") as f :\n",
    "    tags = f.readlines()"
   ]
  },
  {
   "cell_type": "code",
   "execution_count": 5,
   "id": "af618249-462c-42a2-9c13-a9a66636eea7",
   "metadata": {},
   "outputs": [],
   "source": [
    "def modify(s,caps,hashtag):\n",
    "    if caps:\n",
    "        s=s.upper()\n",
    "    else:\n",
    "        s=s.lower()\n",
    "    if hashtag:\n",
    "        s=\"#\"+s\n",
    "    else:\n",
    "        s=\"$\"+s\n",
    "    return s\n",
    "emojis = \"😀😄😙😚😅🤣😂🙂🤩😍🥰🤑😝🤪😜🤐😑😏🤨😷🤢🤧😟😨😰😻\""
   ]
  },
  {
   "cell_type": "code",
   "execution_count": 6,
   "id": "7a228383-1877-4e24-91fc-68b99e851f2b",
   "metadata": {},
   "outputs": [],
   "source": [
    "def gettweet():\n",
    "    caps = random.random()>0.5 ; hashtag = random.random()>0.5\n",
    "    tweet = random.sample(ss,1)[0].lower().capitalize()\n",
    "    tweet += \"\".join([ modify(s,caps,hashtag) for s in random.sample(tags,15)])\n",
    "    tweet += \"Follow for more! \"+random.choice(emojis)+random.choice(emojis)+\" doge.servegame.com\"\n",
    "    return tweet"
   ]
  },
  {
   "cell_type": "code",
   "execution_count": null,
   "id": "c4a7a0de-eeda-49d0-8f09-64a76fe51466",
   "metadata": {},
   "outputs": [],
   "source": [
    "for i in range(4*8*10):\n",
    "    api = TwitterAPI(consumer_key, consumer_secret, access_token_key, access_token_secret)\n",
    "    r=api.request(\"statuses/update\",{\"status\":gettweet()})\n",
    "    time.sleep(60*30 + random.randint(60,60*5)+random.random() )"
   ]
  },
  {
   "cell_type": "code",
   "execution_count": null,
   "id": "ad88501d-ff31-4241-92f2-6fead2f6af66",
   "metadata": {},
   "outputs": [],
   "source": []
  },
  {
   "cell_type": "code",
   "execution_count": null,
   "id": "247d975e-d117-41b1-9319-a9ec9fde0d61",
   "metadata": {},
   "outputs": [],
   "source": []
  },
  {
   "cell_type": "code",
   "execution_count": null,
   "id": "9c824568-1a1c-473c-b9af-9d8775843fef",
   "metadata": {},
   "outputs": [],
   "source": []
  },
  {
   "cell_type": "code",
   "execution_count": null,
   "id": "8b543a9e-32be-4002-9afa-cc350ccd4837",
   "metadata": {},
   "outputs": [],
   "source": [
    "api = TwitterAPI(consumer_key, consumer_secret, access_token_key, access_token_secret, api_version='2')"
   ]
  },
  {
   "cell_type": "code",
   "execution_count": null,
   "id": "e9edfb0a-194d-4850-8a05-53d0700e173e",
   "metadata": {},
   "outputs": [
    {
     "name": "stdout",
     "output_type": "stream",
     "text": [
      "{'id': '1426603100060602373', 'text': 'Which of the following do you own?\\n#TRUMP\\n#EV\\n#MOBILEPHONE\\n#AAPL\\n#BABYLLAMA\\n#BIKING\\n#DOGE\\n#FITNESS\\n#BABYCAKE\\n#LTC\\n#VEGAS\\n#BNB\\n#BABYARMY\\n#COTI\\n#MAN\\nFollow for more! :) https://t.co/uEhmkx6y7j'}\n",
      "{'id': '1426598035589537800', 'text': '@pifinity senpai notice me'}\n",
      "{'id': '1426561580783734787', 'text': 'Best portfolio:\\nCongratulations!! https://t.co/QNFqO02G51\\nBank Banking $SQ\\nRobot face AI/ML $NVDA\\nHigh voltage sign EV $TSLA\\nPackage E-Comm $SHOP $SE\\nMan biking Fitness $PTON\\nVideo game Gaming $DogeMV\\nMobile phone Digital Ads $PINS\\nCoin Crypto $BTC $ETH $DogeMV\\nAirplane Travel'}\n",
      "{'id': '1426159033736699904', 'text': 'much wow https://t.co/AZLZc8WLhG'}\n",
      "{'id': '1426154522817220608', 'text': '💎 Doge Multiverse, Universal In-Game Microtransactions 💎\\n\\n🔥🔥 INTEGRATED GAME TOKENS, MORE REWARDS 🔥🔥\\n🔥 20,000++ ORGANIC PLAYERS, ZERO Marketing Spent 🔥\\n🟢 NO PRESALE 🟢 NO ICO\\xa0\\n🟢 95% MAX SUPPLY FOR CIRCULATION\\nWhy is Doge…https://t.co/tQI531YfH3 https://t.co/Qnz8phqOCx'}\n",
      "{'id': '1426138577134489609', 'text': 'RT @selenaroyf: CRYPTO BULLRUN 📈🐂 \\n\\n$BTC: $250,000\\n$ETH: $15,000\\n$BNB: $2,000\\n$ADA: $4\\n$DOGE: $1\\n$DOT: $100\\n$LTC: $700\\n$LINK: $100\\n$MATIC :…'}\n",
      "{'id': '1425811890119139329', 'text': 'https://t.co/tbis9YuPiw'}\n",
      "{'id': '1425807582292111360', 'text': '1% Contract Burn Event: https://t.co/Qnz8ph9ddX  \\n$SQ $NVDA  $TSLA  $SHOP $SE  $PTON  $DogeMV  $PINS  $BTC $ETH $DogeMV $ABNB $DogeMV https://t.co/Miv8JtGUyh'}\n",
      "{'id': '1425666378367836167', 'text': 'If you had $10,000 to invest, which #cryptocurrency are you buying?🤔 (other than $DogeMV on https://t.co/uEhmkx6y7j) https://t.co/Rqh6SMWxHl'}\n",
      "{'id': '1425665875558887426', 'text': 'Best portfolio:\\nBank Banking $SQ\\nRobot face AI/ML $NVDA\\nHigh voltage sign EV $TSLA\\nPackage E-Comm $SHOP $SE\\nMan biking Fitness $PTON\\nVideo game Gaming $DogeMV\\nMobile phone Digital Ads $PINS\\nCoin Crypto $BTC $ETH $DogeMV\\nAirplane Travel $ABNB\\nSpace travel $DogeMV\\nFIRST MILESTONE: https://t.co/cWMDTbGB2y'}\n"
     ]
    }
   ],
   "source": [
    "tweets = api.request(f'users/:{user_id}/tweets')\n",
    "for t in tweets:\n",
    "    print(t)"
   ]
  },
  {
   "cell_type": "code",
   "execution_count": null,
   "id": "295fddba-56c4-4b57-8aba-ab7c9abc4335",
   "metadata": {},
   "outputs": [],
   "source": []
  }
 ],
 "metadata": {
  "kernelspec": {
   "display_name": "Python 3 (ipykernel)",
   "language": "python",
   "name": "python3"
  },
  "language_info": {
   "codemirror_mode": {
    "name": "ipython",
    "version": 3
   },
   "file_extension": ".py",
   "mimetype": "text/x-python",
   "name": "python",
   "nbconvert_exporter": "python",
   "pygments_lexer": "ipython3",
   "version": "3.8.10"
  }
 },
 "nbformat": 4,
 "nbformat_minor": 5
}
