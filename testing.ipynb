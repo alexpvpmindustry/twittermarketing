{
 "cells": [
  {
   "cell_type": "code",
   "execution_count": 43,
   "id": "85805039-342d-46be-b0fe-883e65a39a04",
   "metadata": {},
   "outputs": [],
   "source": [
    "import json\n",
    "from TwitterAPI import TwitterAPI"
   ]
  },
  {
   "cell_type": "code",
   "execution_count": 44,
   "id": "755a82af-477c-4f04-865f-4f81df1f4e23",
   "metadata": {},
   "outputs": [],
   "source": [
    "with open(\"token.config\",\"rb\") as f:\n",
    "    config = json.load(f)\n",
    "consumer_key=config[\"API_Key\"]\n",
    "consumer_secret = config[\"API_Secret_Key\"]\n",
    "Bearer_Token = config[\"Bearer_Token\"]\n",
    "access_token_key = config[\"access_token\"]\n",
    "access_token_secret= config[\"access_token_secret\"]\n",
    "user_id= config[\"user_id\"]"
   ]
  },
  {
   "cell_type": "code",
   "execution_count": 47,
   "id": "8b543a9e-32be-4002-9afa-cc350ccd4837",
   "metadata": {},
   "outputs": [],
   "source": [
    "api = TwitterAPI(consumer_key, consumer_secret, access_token_key, access_token_secret, api_version='2')"
   ]
  },
  {
   "cell_type": "code",
   "execution_count": 48,
   "id": "e9edfb0a-194d-4850-8a05-53d0700e173e",
   "metadata": {
    "tags": []
   },
   "outputs": [
    {
     "name": "stdout",
     "output_type": "stream",
     "text": [
      "{'id': '1426561580783734787', 'text': 'Best portfolio:\\nCongratulations!! https://t.co/QNFqO02G51\\nBank Banking $SQ\\nRobot face AI/ML $NVDA\\nHigh voltage sign EV $TSLA\\nPackage E-Comm $SHOP $SE\\nMan biking Fitness $PTON\\nVideo game Gaming $DogeMV\\nMobile phone Digital Ads $PINS\\nCoin Crypto $BTC $ETH $DogeMV\\nAirplane Travel'}\n",
      "{'id': '1426159033736699904', 'text': 'much wow https://t.co/AZLZc8WLhG'}\n",
      "{'id': '1426154522817220608', 'text': '💎 Doge Multiverse, Universal In-Game Microtransactions 💎\\n\\n🔥🔥 INTEGRATED GAME TOKENS, MORE REWARDS 🔥🔥\\n🔥 20,000++ ORGANIC PLAYERS, ZERO Marketing Spent 🔥\\n🟢 NO PRESALE 🟢 NO ICO\\xa0\\n🟢 95% MAX SUPPLY FOR CIRCULATION\\nWhy is Doge…https://t.co/tQI531YfH3 https://t.co/Qnz8phqOCx'}\n",
      "{'id': '1426138577134489609', 'text': 'RT @selenaroyf: CRYPTO BULLRUN 📈🐂 \\n\\n$BTC: $250,000\\n$ETH: $15,000\\n$BNB: $2,000\\n$ADA: $4\\n$DOGE: $1\\n$DOT: $100\\n$LTC: $700\\n$LINK: $100\\n$MATIC :…'}\n",
      "{'id': '1425811890119139329', 'text': 'https://t.co/tbis9YuPiw'}\n",
      "{'id': '1425807582292111360', 'text': '1% Contract Burn Event: https://t.co/Qnz8ph9ddX  \\n$SQ $NVDA  $TSLA  $SHOP $SE  $PTON  $DogeMV  $PINS  $BTC $ETH $DogeMV $ABNB $DogeMV https://t.co/Miv8JtGUyh'}\n",
      "{'id': '1425666378367836167', 'text': 'If you had $10,000 to invest, which #cryptocurrency are you buying?🤔 (other than $DogeMV on https://t.co/uEhmkx6y7j) https://t.co/Rqh6SMWxHl'}\n",
      "{'id': '1425665875558887426', 'text': 'Best portfolio:\\nBank Banking $SQ\\nRobot face AI/ML $NVDA\\nHigh voltage sign EV $TSLA\\nPackage E-Comm $SHOP $SE\\nMan biking Fitness $PTON\\nVideo game Gaming $DogeMV\\nMobile phone Digital Ads $PINS\\nCoin Crypto $BTC $ETH $DogeMV\\nAirplane Travel $ABNB\\nSpace travel $DogeMV\\nFIRST MILESTONE: https://t.co/cWMDTbGB2y'}\n",
      "{'id': '1425341751850463244', 'text': 'crypto news move so fast! less than 10mins from announcement, alpaca pumped 40%\\n#ALPACA/BUSD chart https://t.co/IebvVYfZEJ via https://t.co/skhPtDKGDI'}\n",
      "{'id': '1425308406424903686', 'text': 'Have a great weekend everyone! Slightly smiling face\\nGot a chart request? Comment below!Flexed biceps\\n\\n$NVDA $AAPL $FB $AMZN $GOOGL $NFLX $TWTR $SNAP $PYPL $SQ $AMD $PINS $RBLX $VZ $DISC $VIAC $TME $AMC $GME $GRPO $NBRV $ORPH $EXPR $KOSS $TLRY $FUBO $TIGR $ZS $EYEN $ZS $DOGE $BTC https://t.co/CULpsGQi2w'}\n"
     ]
    }
   ],
   "source": [
    "tweets = api.request(f'users/:{user_id}/tweets')\n",
    "for t in tweets:\n",
    "    print(t)"
   ]
  },
  {
   "cell_type": "code",
   "execution_count": 49,
   "id": "c4a7a0de-eeda-49d0-8f09-64a76fe51466",
   "metadata": {},
   "outputs": [],
   "source": [
    "api = TwitterAPI(consumer_key, consumer_secret, access_token_key, access_token_secret)\n",
    "r=api.request(\"statuses/update\",{\"status\":\"hello world2\"})"
   ]
  },
  {
   "cell_type": "code",
   "execution_count": 52,
   "id": "5ba0a7ad-8dbf-48db-a924-abd11b3ae947",
   "metadata": {
    "tags": []
   },
   "outputs": [
    {
     "data": {
      "text/plain": [
       "200"
      ]
     },
     "execution_count": 52,
     "metadata": {},
     "output_type": "execute_result"
    }
   ],
   "source": [
    "r.status_code"
   ]
  },
  {
   "cell_type": "code",
   "execution_count": null,
   "id": "0b87845b-f429-42de-9544-e3b85fe1d48a",
   "metadata": {},
   "outputs": [],
   "source": []
  }
 ],
 "metadata": {
  "kernelspec": {
   "display_name": "Python 3 (ipykernel)",
   "language": "python",
   "name": "python3"
  },
  "language_info": {
   "codemirror_mode": {
    "name": "ipython",
    "version": 3
   },
   "file_extension": ".py",
   "mimetype": "text/x-python",
   "name": "python",
   "nbconvert_exporter": "python",
   "pygments_lexer": "ipython3",
   "version": "3.8.10"
  }
 },
 "nbformat": 4,
 "nbformat_minor": 5
}
