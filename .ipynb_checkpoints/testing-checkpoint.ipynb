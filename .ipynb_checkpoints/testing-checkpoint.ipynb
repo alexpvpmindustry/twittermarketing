{
 "cells": [
  {
   "cell_type": "code",
   "execution_count": 3,
   "id": "85805039-342d-46be-b0fe-883e65a39a04",
   "metadata": {},
   "outputs": [],
   "source": [
    "import numpy"
   ]
  },
  {
   "cell_type": "code",
   "execution_count": null,
   "id": "755a82af-477c-4f04-865f-4f81df1f4e23",
   "metadata": {},
   "outputs": [],
   "source": [
    "with open(\""
   ]
  }
 ],
 "metadata": {
  "kernelspec": {
   "display_name": "Python 3 (ipykernel)",
   "language": "python",
   "name": "python3"
  },
  "language_info": {
   "codemirror_mode": {
    "name": "ipython",
    "version": 3
   },
   "file_extension": ".py",
   "mimetype": "text/x-python",
   "name": "python",
   "nbconvert_exporter": "python",
   "pygments_lexer": "ipython3",
   "version": "3.8.10"
  }
 },
 "nbformat": 4,
 "nbformat_minor": 5
}
